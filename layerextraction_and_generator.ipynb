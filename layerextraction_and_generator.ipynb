{
 "cells": [
  {
   "cell_type": "markdown",
   "metadata": {},
   "source": [
    "# 画像を読み込んでレイヤーを抽出してみよう\n",
    "## 以下で解説すること\n",
    "画像を読み込む所までは自力でやりましょう．問題なのは，読み込んだ画像データがどういう配列に格納されているかです．\n",
    "\n",
    "以下では配列とその次元の考え方のヒントを載せておきますね．\n",
    "\n",
    "extractで抽出している値は，どういう理屈で抽出できているのでしょうか．わからなければ配列と次元の考え方を調べてみてください．\n",
    "\n",
    "画像を読み込むとRGBの配列になっているので，その中で一つのチャンネルを抽出するとき，どうすればいいでしょうか．"
   ]
  },
  {
   "cell_type": "code",
   "execution_count": 1,
   "metadata": {},
   "outputs": [],
   "source": [
    "import numpy as np"
   ]
  },
  {
   "cell_type": "code",
   "execution_count": 18,
   "metadata": {},
   "outputs": [
    {
     "name": "stdout",
     "output_type": "stream",
     "text": [
      "[1 2 3 4 5]\n",
      "-*-*-*-*-*-*-*-*-*-*\n",
      "1\n",
      "(5,)\n",
      "5\n",
      "-*-*-*-*-*-*-*-*-*-*\n",
      "extract! -> 4\n"
     ]
    }
   ],
   "source": [
    "ar = np.array([1, 2, 3, 4, 5])\n",
    "print(ar)\n",
    "print(\"-*\" * 10)\n",
    "print(np.ndim(ar)) # 配列の次元\n",
    "print(np.shape(ar)) # 配列の形状\n",
    "print(np.size(ar)) # 配列の全要素数\n",
    "\n",
    "print(\"-*\" * 10)\n",
    "\n",
    "print(\"extract! ->\", ar[3])\n"
   ]
  },
  {
   "cell_type": "code",
   "execution_count": 23,
   "metadata": {},
   "outputs": [
    {
     "name": "stdout",
     "output_type": "stream",
     "text": [
      "[[  1   2   3   4   5]\n",
      " [ 10  20  30  40  50]\n",
      " [100 200 300 400 500]]\n",
      "-*-*-*-*-*-*-*-*-*-*\n",
      "2\n",
      "(3, 5)\n",
      "15\n",
      "-*-*-*-*-*-*-*-*-*-*\n",
      "extract! -> 200\n",
      "extract! -> [100 200 300 400 500]\n",
      "extract! -> [  2  20 200]\n"
     ]
    }
   ],
   "source": [
    "ar = np.array([[1, 2, 3, 4, 5], [10, 20, 30, 40, 50], [100, 200, 300, 400, 500]])\n",
    "print(ar)\n",
    "print(\"-*\" * 10)\n",
    "print(np.ndim(ar)) # 配列の次元\n",
    "print(np.shape(ar)) # 配列の形状\n",
    "print(np.size(ar)) # 配列の全要素数\n",
    "\n",
    "print(\"-*\" * 10)\n",
    "\n",
    "print(\"extract! ->\", ar[2, 1])\n",
    "print(\"extract! ->\", ar[2, :])\n",
    "print(\"extract! ->\", ar[:, 1])\n"
   ]
  },
  {
   "cell_type": "code",
   "execution_count": 28,
   "metadata": {},
   "outputs": [
    {
     "name": "stdout",
     "output_type": "stream",
     "text": [
      "[[[   1    2    3    4    5]\n",
      "  [  10   20   30   40   50]\n",
      "  [ 100  200  300  400  500]]\n",
      "\n",
      " [[  11   22   33   44   55]\n",
      "  [ 110  220  330  440  550]\n",
      "  [ 100  200 3000 4000 5000]]]\n",
      "-*-*-*-*-*-*-*-*-*-*\n",
      "3\n",
      "(2, 3, 5)\n",
      "30\n",
      "-*-*-*-*-*-*-*-*-*-*\n",
      "extract! -> [[  1   2   3   4   5]\n",
      " [ 10  20  30  40  50]\n",
      " [100 200 300 400 500]]\n",
      "extract! -> [[  11   22   33   44   55]\n",
      " [ 110  220  330  440  550]\n",
      " [ 100  200 3000 4000 5000]]\n",
      "extract! -> [[   4   40  400]\n",
      " [  44  440 4000]]\n"
     ]
    }
   ],
   "source": [
    "ar = np.array([[[1, 2, 3, 4, 5], [10, 20, 30, 40, 50], [100, 200, 300, 400, 500]], [[11, 22, 33, 44, 55], [110, 220, 330, 440, 550], [100, 200, 3000, 4000, 5000]]])\n",
    "print(ar)\n",
    "print(\"-*\" * 10)\n",
    "print(np.ndim(ar)) # 配列の次元\n",
    "print(np.shape(ar)) # 配列の形状\n",
    "print(np.size(ar)) # 配列の全要素数\n",
    "\n",
    "print(\"-*\" * 10)\n",
    "\n",
    "print(\"extract! ->\", ar[0, :, :])\n",
    "print(\"extract! ->\", ar[1, :, :])\n",
    "print(\"extract! ->\", ar[:, :, 3])"
   ]
  },
  {
   "cell_type": "code",
   "execution_count": 51,
   "metadata": {},
   "outputs": [
    {
     "name": "stdout",
     "output_type": "stream",
     "text": [
      "-*-*-*-*-*-*-*-*-*-*\n",
      "5\n",
      "(2, 2, 5, 5, 1)\n",
      "100\n",
      "-*-*-*-*-*-*-*-*-*-*\n",
      "extract! -> [[[[ 0]\n",
      "   [ 1]\n",
      "   [ 2]\n",
      "   [ 3]\n",
      "   [ 4]]\n",
      "\n",
      "  [[ 5]\n",
      "   [ 6]\n",
      "   [ 7]\n",
      "   [ 8]\n",
      "   [ 9]]\n",
      "\n",
      "  [[10]\n",
      "   [11]\n",
      "   [12]\n",
      "   [13]\n",
      "   [14]]\n",
      "\n",
      "  [[15]\n",
      "   [16]\n",
      "   [17]\n",
      "   [18]\n",
      "   [19]]\n",
      "\n",
      "  [[20]\n",
      "   [21]\n",
      "   [22]\n",
      "   [23]\n",
      "   [24]]]\n",
      "\n",
      "\n",
      " [[[25]\n",
      "   [26]\n",
      "   [27]\n",
      "   [28]\n",
      "   [29]]\n",
      "\n",
      "  [[30]\n",
      "   [31]\n",
      "   [32]\n",
      "   [33]\n",
      "   [34]]\n",
      "\n",
      "  [[35]\n",
      "   [36]\n",
      "   [37]\n",
      "   [38]\n",
      "   [39]]\n",
      "\n",
      "  [[40]\n",
      "   [41]\n",
      "   [42]\n",
      "   [43]\n",
      "   [44]]\n",
      "\n",
      "  [[45]\n",
      "   [46]\n",
      "   [47]\n",
      "   [48]\n",
      "   [49]]]]\n",
      "-*-*-*-*-*-*-*-*-*-*\n",
      "extract! -> [[[[ 0  1  2  3  4]\n",
      "   [ 5  6  7  8  9]\n",
      "   [10 11 12 13 14]\n",
      "   [15 16 17 18 19]\n",
      "   [20 21 22 23 24]]\n",
      "\n",
      "  [[25 26 27 28 29]\n",
      "   [30 31 32 33 34]\n",
      "   [35 36 37 38 39]\n",
      "   [40 41 42 43 44]\n",
      "   [45 46 47 48 49]]]\n",
      "\n",
      "\n",
      " [[[50 51 52 53 54]\n",
      "   [55 56 57 58 59]\n",
      "   [60 61 62 63 64]\n",
      "   [65 66 67 68 69]\n",
      "   [70 71 72 73 74]]\n",
      "\n",
      "  [[75 76 77 78 79]\n",
      "   [80 81 82 83 84]\n",
      "   [85 86 87 88 89]\n",
      "   [90 91 92 93 94]\n",
      "   [95 96 97 98 99]]]]\n"
     ]
    }
   ],
   "source": [
    "ar = np.arange(100).reshape(2, 2, 5, 5, 1) # ここまで来ると，私も追うのが面倒くさい．上が理解できていれば書いていることはわかると思います．\n",
    "# print(ar)\n",
    "print(\"-*\" * 10)\n",
    "print(np.ndim(ar)) # 配列の次元\n",
    "print(np.shape(ar)) # 配列の形状\n",
    "print(np.size(ar)) # 配列の全要素数\n",
    "\n",
    "print(\"-*\" * 10)\n",
    "\n",
    "print(\"extract! ->\", ar[0])\n",
    "print(\"-*\" * 10)\n",
    "print(\"extract! ->\", ar[:, :, :, :, 0])"
   ]
  },
  {
   "cell_type": "markdown",
   "metadata": {},
   "source": [
    "# generatorで学習データを読み込みながら学習させよう\n",
    "## generatorとその挙動 \n",
    "generatorは，関数の中にあるreturnをyieldに変えたものです（乱暴な説明な気もしますが）．\n",
    "\n",
    "generatorはreturnの代わりにyieldを用いることで，処理を記憶しながら逐次呼び出すことができます．\n",
    "\n",
    "説明が大変なので，以下の計算の例を取り上げます．"
   ]
  },
  {
   "cell_type": "code",
   "execution_count": 83,
   "metadata": {},
   "outputs": [],
   "source": [
    "from sys import exit # ジェネレーターを止めるために使用\n",
    "def generator_ex():\n",
    "    ar = np.array([0, 1, 2, 3, 4, 5, 6, 7, 8, 9])\n",
    "    limit = 0\n",
    "    i = 0\n",
    "    while True:\n",
    "        value = ar[i]\n",
    "        yield value # この位置にyield\n",
    "        \n",
    "        i += 1\n",
    "        limit += 1\n",
    "        if i >= len(ar):\n",
    "            i = 0\n",
    "            print(\"-*-reset-*-\" * 3)\n",
    "        if limit >= 20: # 終了条件\n",
    "            print(\"Finish\")\n",
    "            exit()\n",
    "            "
   ]
  },
  {
   "cell_type": "code",
   "execution_count": 85,
   "metadata": {},
   "outputs": [
    {
     "name": "stdout",
     "output_type": "stream",
     "text": [
      "0\n",
      "1\n",
      "2\n",
      "3\n",
      "4\n",
      "5\n",
      "6\n",
      "7\n",
      "8\n",
      "9\n",
      "-*-reset-*--*-reset-*--*-reset-*-\n",
      "0\n",
      "1\n",
      "2\n",
      "3\n",
      "4\n",
      "5\n",
      "6\n",
      "7\n",
      "8\n",
      "9\n",
      "-*-reset-*--*-reset-*--*-reset-*-\n",
      "Finish\n"
     ]
    },
    {
     "ename": "SystemExit",
     "evalue": "",
     "output_type": "error",
     "traceback": [
      "An exception has occurred, use %tb to see the full traceback.\n",
      "\u001b[0;31mSystemExit\u001b[0m\n"
     ]
    }
   ],
   "source": [
    "for num in generator_ex():\n",
    "    print(num)"
   ]
  },
  {
   "cell_type": "markdown",
   "metadata": {},
   "source": [
    "## 機械学習でどう使うのか？\n",
    "\n",
    "generatorを使うのは，莫大なデータを読み込む際にメモリーがいっぱいいっぱいにならないようにするためです(画像データ全てをメモリーに開けるとクラッシュします)．\n",
    "\n",
    "画像を読み込んでそれを学習データとしてyieldする，と言うプログラムを作成してください．\n",
    "\n",
    "上を知ってからぐぐると，案外書き方がわかりますよ．\n",
    "\n",
    "\n",
    "## 懸案事項\n",
    "もしかしたら，colabだとIOの関係でジェネレーターが使えません．自前の計算機に投げましょう．"
   ]
  },
  {
   "cell_type": "code",
   "execution_count": null,
   "metadata": {},
   "outputs": [],
   "source": []
  },
  {
   "cell_type": "code",
   "execution_count": null,
   "metadata": {},
   "outputs": [],
   "source": []
  }
 ],
 "metadata": {
  "kernelspec": {
   "display_name": "Python 3",
   "language": "python",
   "name": "python3"
  },
  "language_info": {
   "codemirror_mode": {
    "name": "ipython",
    "version": 3
   },
   "file_extension": ".py",
   "mimetype": "text/x-python",
   "name": "python",
   "nbconvert_exporter": "python",
   "pygments_lexer": "ipython3",
   "version": "3.6.10"
  }
 },
 "nbformat": 4,
 "nbformat_minor": 4
}
